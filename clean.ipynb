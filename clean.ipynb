{
 "cells": [
  {
   "cell_type": "code",
   "execution_count": 1,
   "id": "cc747807",
   "metadata": {},
   "outputs": [],
   "source": [
    "#Formas de limpiar la data empleadas en el proyecto"
   ]
  },
  {
   "cell_type": "code",
   "execution_count": null,
   "id": "73e8357f",
   "metadata": {},
   "outputs": [],
   "source": [
    "df = df.drop_duplicates() \n",
    "\"\"\"\n",
    "Lo utilizamos para limpiar todas las filas completas repetidas al comienzo de tratar la data.\n",
    "\"\"\""
   ]
  },
  {
   "cell_type": "code",
   "execution_count": null,
   "id": "5922d98a",
   "metadata": {},
   "outputs": [],
   "source": [
    "df[\"Case Number\"] = df[\"Case Number\"].replace(r\"\\.*[a-zA-Z]+|^0| *&* *|\\.+ *$\", value = \"\", regex = True)\n",
    "df[\"Case Number\"] = df[\"Case Number\"].replace(\"\", value = None)\n",
    "\"\"\"\n",
    "Utilizamos replace tanto con regex como sin ello para limpiar la data\n",
    "\"\"\""
   ]
  },
  {
   "cell_type": "code",
   "execution_count": null,
   "id": "740d4bce",
   "metadata": {},
   "outputs": [],
   "source": [
    "dictKo = {'': None, 'December':\"Dec\", 'July':\"Jul\", 'November':\"Nov\", 'Julb':\"Jul\",\n",
    "       'Jula':\"Jul\", 'weekend':None, 'Ap':\"Apr\", 'Kong':None, 'June':\"Jun\", 'of':None, 'MayJun':\"Jun\",\n",
    "       'JanJun':\"Jun\", 'andSep':\"Sep\", '\\n':None, 'AugAug':\"Aug\", 'MartoMar':\"Mar\", 'SeptoSep':\"Sep\", 'Sept':\"Sep\",\n",
    "       'betweenJanJan':\"Jan\", 'MarMar':\"Mar\", 'in':None, 'NovtoNov':\"Nov\", 'April':\"Apr\", 'Ladymith':None,\n",
    "       'War':None, 'Decp':\"Dec\", 'Dic':'Dec', 'October':\"Oct\", 'MidAug':\"Aug\", 'March':\"Mar\", 'mid':None, 'befe':None,\n",
    "       'likely':None, 'toJul':\"Jul\"}\n",
    "\n",
    "df.replace({\"Date\":dictKo}, inplace=True)\n",
    "\n",
    "\"\"\"\n",
    "Utilizamos replace junto a un diccionario para asignar el valor corregido en casos reventados\n",
    "\"\"\""
   ]
  },
  {
   "cell_type": "code",
   "execution_count": null,
   "id": "2ceaf7da",
   "metadata": {},
   "outputs": [],
   "source": [
    "df.where(df.Year>1500,np.nan, inplace=True) \n",
    "\"\"\"\n",
    "Aplicar una función a todos los valores de una columna OK con numeros\n",
    "\"\"\""
   ]
  },
  {
   "cell_type": "code",
   "execution_count": null,
   "id": "0ce6521d",
   "metadata": {},
   "outputs": [],
   "source": [
    "dfAux = df.Country.value_counts() \n",
    "badIndexs = dfAux[dfAux<30].index \n",
    "df[\"Country\"].replace(badIndexs,None, inplace=True) \n",
    "\n",
    "# - 1º Obtenemos una serie con todos los valores acumulados\n",
    "# - 2º Nos quedamos los indexs que no nos interesan y los guardamos en badIndexs\n",
    "# - 3º Reemplazo en la columna deseada estos nombres por None"
   ]
  },
  {
   "cell_type": "code",
   "execution_count": null,
   "id": "c4f3a0fa",
   "metadata": {},
   "outputs": [],
   "source": [
    "aux = df.Activity.values\n",
    "\n",
    "for it, element in enumerate (aux):\n",
    "    if element != None:\n",
    "        if \"ing\" not in element:\n",
    "            aux[it] = None\n",
    "#df.Activity[59]\n",
    "df.Activity = aux\n",
    "df.Activity\n",
    "\n",
    "#Con esto eliminamos todas las actividades que no tenían \"ing\" en el nombre"
   ]
  },
  {
   "cell_type": "code",
   "execution_count": null,
   "id": "916d2257",
   "metadata": {},
   "outputs": [],
   "source": [
    "df.at[1901, \"Age\"] = '6' #6 1/2\n",
    "df.at[6002, \"Age\"] = '2' #2 1/2\n",
    "\n",
    "#Asignamos casos particulares localizando el índice del valor y escribiendo como mostramos"
   ]
  }
 ],
 "metadata": {
  "kernelspec": {
   "display_name": "Python 3 (ipykernel)",
   "language": "python",
   "name": "python3"
  },
  "language_info": {
   "codemirror_mode": {
    "name": "ipython",
    "version": 3
   },
   "file_extension": ".py",
   "mimetype": "text/x-python",
   "name": "python",
   "nbconvert_exporter": "python",
   "pygments_lexer": "ipython3",
   "version": "3.9.12"
  }
 },
 "nbformat": 4,
 "nbformat_minor": 5
}
